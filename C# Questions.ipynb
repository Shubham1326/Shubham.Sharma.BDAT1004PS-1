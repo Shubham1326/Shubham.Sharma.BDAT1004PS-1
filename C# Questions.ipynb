{
 "cells": [
  {
   "cell_type": "markdown",
   "metadata": {},
   "source": [
    "# Question 1.1"
   ]
  },
  {
   "cell_type": "code",
   "execution_count": 216,
   "metadata": {},
   "outputs": [
    {
     "name": "stdout",
     "output_type": "stream",
     "text": [
      "System.Int32"
     ]
    }
   ],
   "source": [
    "object x = 5;\n",
    "Console.Write(x.GetType());"
   ]
  },
  {
   "cell_type": "markdown",
   "metadata": {},
   "source": [
    "# Question 1.2"
   ]
  },
  {
   "cell_type": "code",
   "execution_count": 217,
   "metadata": {},
   "outputs": [
    {
     "name": "stdout",
     "output_type": "stream",
     "text": [
      "System.Double"
     ]
    }
   ],
   "source": [
    "object x = 5.0;\n",
    "Console.Write(x.GetType());"
   ]
  },
  {
   "cell_type": "markdown",
   "metadata": {},
   "source": [
    "# Question 1.3"
   ]
  },
  {
   "cell_type": "code",
   "execution_count": 219,
   "metadata": {},
   "outputs": [
    {
     "name": "stdout",
     "output_type": "stream",
     "text": [
      "System.Boolean"
     ]
    }
   ],
   "source": [
    "object x = 5>1;\n",
    "Console.Write(x.GetType());"
   ]
  },
  {
   "cell_type": "markdown",
   "metadata": {},
   "source": [
    "# Question 1.4"
   ]
  },
  {
   "cell_type": "code",
   "execution_count": 220,
   "metadata": {},
   "outputs": [
    {
     "name": "stdout",
     "output_type": "stream",
     "text": [
      "System.Char"
     ]
    }
   ],
   "source": [
    "object x = '5';\n",
    "Console.Write(x.GetType());"
   ]
  },
  {
   "cell_type": "markdown",
   "metadata": {},
   "source": [
    "# Question 1.5"
   ]
  },
  {
   "cell_type": "code",
   "execution_count": 246,
   "metadata": {},
   "outputs": [
    {
     "name": "stdout",
     "output_type": "stream",
     "text": [
      "System.Int32"
     ]
    }
   ],
   "source": [
    "object x = 5*2;\n",
    "Console.Write(x.GetType());"
   ]
  },
  {
   "cell_type": "markdown",
   "metadata": {},
   "source": [
    "# Question 1.6"
   ]
  },
  {
   "cell_type": "code",
   "execution_count": 222,
   "metadata": {},
   "outputs": [
    {
     "name": "stdout",
     "output_type": "stream",
     "text": [
      "System.Int32"
     ]
    }
   ],
   "source": [
    "object x = '5'*2;\n",
    "Console.Write(x.GetType());"
   ]
  },
  {
   "cell_type": "markdown",
   "metadata": {},
   "source": [
    "# Question 1.7"
   ]
  },
  {
   "cell_type": "code",
   "execution_count": 223,
   "metadata": {},
   "outputs": [
    {
     "name": "stdout",
     "output_type": "stream",
     "text": [
      "System.Int32"
     ]
    }
   ],
   "source": [
    "object x = '5'+'2';\n",
    "Console.Write(x.GetType());"
   ]
  },
  {
   "cell_type": "markdown",
   "metadata": {},
   "source": [
    "# Question 1.8"
   ]
  },
  {
   "cell_type": "code",
   "execution_count": 224,
   "metadata": {},
   "outputs": [
    {
     "name": "stdout",
     "output_type": "stream",
     "text": [
      "System.Int32"
     ]
    }
   ],
   "source": [
    "object x = 5/2;\n",
    "Console.Write(x.GetType());"
   ]
  },
  {
   "cell_type": "markdown",
   "metadata": {},
   "source": [
    "# Question 1.9"
   ]
  },
  {
   "cell_type": "code",
   "execution_count": 226,
   "metadata": {},
   "outputs": [
    {
     "name": "stdout",
     "output_type": "stream",
     "text": [
      "System.Int32"
     ]
    }
   ],
   "source": [
    "object x = 5%2;\n",
    "Console.Write(x.GetType());"
   ]
  },
  {
   "cell_type": "markdown",
   "metadata": {},
   "source": [
    "# Question 1.10"
   ]
  },
  {
   "cell_type": "code",
   "execution_count": 236,
   "metadata": {},
   "outputs": [
    {
     "name": "stdout",
     "output_type": "stream",
     "text": [
      "System.Int32[]"
     ]
    }
   ],
   "source": [
    "x = new int[3]{5,2,1};\n",
    "Console.Write(x.GetType());"
   ]
  },
  {
   "cell_type": "markdown",
   "metadata": {},
   "source": [
    "# Question 1.11"
   ]
  },
  {
   "cell_type": "code",
   "execution_count": 229,
   "metadata": {},
   "outputs": [
    {
     "name": "stdout",
     "output_type": "stream",
     "text": [
      "System.Boolean"
     ]
    }
   ],
   "source": [
    "object x = 5==3;\n",
    "Console.Write(x.GetType());"
   ]
  },
  {
   "cell_type": "markdown",
   "metadata": {},
   "source": [
    "# Question 1.12"
   ]
  },
  {
   "cell_type": "code",
   "execution_count": 225,
   "metadata": {},
   "outputs": [
    {
     "name": "stdout",
     "output_type": "stream",
     "text": [
      "System.Double"
     ]
    }
   ],
   "source": [
    "object x = Math.PI;\n",
    "Console.Write(x.GetType());"
   ]
  },
  {
   "cell_type": "markdown",
   "metadata": {},
   "source": [
    "# Question 2.a"
   ]
  },
  {
   "cell_type": "code",
   "execution_count": 247,
   "metadata": {},
   "outputs": [
    {
     "name": "stdout",
     "output_type": "stream",
     "text": [
      "34\r\n"
     ]
    }
   ],
   "source": [
    "string var = \"Supercalifragilisticexpialidocious\";\n",
    "int varLength = var.Length;\n",
    "Console.WriteLine(varLength);"
   ]
  },
  {
   "cell_type": "markdown",
   "metadata": {},
   "source": [
    "# Question 2.b"
   ]
  },
  {
   "cell_type": "code",
   "execution_count": 238,
   "metadata": {},
   "outputs": [
    {
     "name": "stdout",
     "output_type": "stream",
     "text": [
      "Yes, 'Supercalifragilisticexpialidocious' contains 'ice' as a SubString \r\n"
     ]
    }
   ],
   "source": [
    "string var = \"Supercalifragilisticexpialidocious\";\n",
    "Console.WriteLine($\"Yes, '{var}' contains '{var.Substring(18,3)}' as a SubString \" );\n"
   ]
  },
  {
   "cell_type": "markdown",
   "metadata": {},
   "source": [
    "# Question 2.c"
   ]
  },
  {
   "cell_type": "code",
   "execution_count": 241,
   "metadata": {},
   "outputs": [
    {
     "name": "stdout",
     "output_type": "stream",
     "text": [
      "The word Supercalifragilisticexpialidocious Contains 34 Letters\n",
      "The word Honorificabilitudinitatibus Contains 27 Letters\n",
      "The word Bababadalgharaghtakamminarronnkonn Contains 34 Letters\n",
      "Longest word letters are:34\n",
      "Supercalifragilisticexpialidocious are longest words..\n",
      "Bababadalgharaghtakamminarronnkonn are longest words..\n"
     ]
    }
   ],
   "source": [
    "//2c\n",
    "string var1 = \"Supercalifragilisticexpialidocious\";\n",
    "string var2 = \"Honorificabilitudinitatibus\";\n",
    "string var3 = \"Bababadalgharaghtakamminarronnkonn\";\n",
    "int var1Length = var1.Length;\n",
    "int var2Length = var2.Length;\n",
    "int var3Length = var3.Length;\n",
    "Console.WriteLine(\"The word \" + var1 + \" Contains \" + var1Length + \" Letters\");\n",
    "Console.WriteLine(\"The word \" + var2 + \" Contains \" + var2Length + \" Letters\");\n",
    "Console.WriteLine(\"The word \" + var3 + \" Contains \" + var3Length + \" Letters\");\n",
    "int answer = Math.Max(var1Length,var2Length);\n",
    "answer = Math.Max(answer,var3Length);\n",
    "Console.WriteLine(\"Longest word letters are:\"+ answer);\n",
    "//Console.WriteLine($\"{var1} and {var2} are longest with {answer} letters\");\n",
    "\n",
    "string[] lst = new string[3];\n",
    "lst [0] = var1;\n",
    "lst [1] = var2;\n",
    "lst [2] = var3;\n",
    "foreach(string val in lst){\n",
    "    if(val.Length == answer){\n",
    "        Console.WriteLine($\"{val} are longest words..\");\n",
    "    }\n",
    "}\n"
   ]
  },
  {
   "cell_type": "markdown",
   "metadata": {},
   "source": [
    "# Question 2.d"
   ]
  },
  {
   "cell_type": "code",
   "execution_count": 244,
   "metadata": {},
   "outputs": [
    {
     "name": "stdout",
     "output_type": "stream",
     "text": [
      "Bartok\n",
      "Bellini\n",
      "Berlioz\n",
      "Bernstein\n",
      "Borodin\n",
      "Brian\n",
      "Buxtehude\n",
      "Bartok is first\n",
      "Buxtehude is Last\n"
     ]
    }
   ],
   "source": [
    "//# Question 2d\n",
    "string[] str = {\"Berlioz\", \"Borodin\", \"Brian\",\n",
    "\"Bartok\", \"Bellini\", \"Buxtehude\", \"Bernstein\"};\n",
    "Array.Sort(str);\n",
    "foreach(string i in str){\n",
    "    Console.WriteLine(i);\n",
    "}\n",
    "\n",
    "Console.WriteLine( str[0]+ \" is first\");\n",
    "Console.WriteLine( str[str.Length-1]+ \" is Last\");"
   ]
  },
  {
   "cell_type": "markdown",
   "metadata": {},
   "source": [
    "# Question 3"
   ]
  },
  {
   "cell_type": "code",
   "execution_count": null,
   "metadata": {},
   "outputs": [],
   "source": [
    "# Question 3\n",
    "public double triangleArea(double a , double b , double c){\n",
    "    double s = (a+b+c)/2;\n",
    "    double result = s*(s - a)*(s -b)*(s -c);\n",
    "    result = Math.Sqrt(result);    \n",
    "    return result;\n",
    "}\n",
    "\n",
    "    \n",
    "Console.Write(triangleArea(2,2,2));"
   ]
  },
  {
   "cell_type": "markdown",
   "metadata": {},
   "source": [
    "# Question 4"
   ]
  },
  {
   "cell_type": "code",
   "execution_count": 242,
   "metadata": {},
   "outputs": [
    {
     "name": "stdout",
     "output_type": "stream",
     "text": [
      "Even numbers are:\n",
      "42 56 32 \n",
      "Odd numbers are:\n",
      "25 47 "
     ]
    }
   ],
   "source": [
    "//4\n",
    "int i;\n",
    "int[] a = new int[5];\n",
    "a[0] = 25;\n",
    "a[1] = 47;\n",
    "a[2] = 42;\n",
    "a[3] = 56;\n",
    "a[4] = 32;\n",
    "Console.WriteLine(\"Even numbers are:\");\n",
    "for (i = 0; i < 5; i++)\n",
    "{\n",
    "    if (a[i] % 2 == 0)\n",
    "    {\n",
    "        Console.Write(a[i] + \" \" );\n",
    "    }\n",
    "}\n",
    "\n",
    "Console.WriteLine(\"\\nOdd numbers are:\");\n",
    "for (i = 0; i < 5; i++)\n",
    "{\n",
    "    if (a[i] % 2 != 0)\n",
    "    {\n",
    "        Console.Write(a[i] + \" \" );\n",
    "    }\n",
    "}"
   ]
  },
  {
   "cell_type": "markdown",
   "metadata": {},
   "source": [
    "# Question 5.a"
   ]
  },
  {
   "cell_type": "code",
   "execution_count": 245,
   "metadata": {},
   "outputs": [
    {
     "name": "stdout",
     "output_type": "stream",
     "text": [
      "True,The given point lies in rectangle"
     ]
    }
   ],
   "source": [
    "//Question 5a\n",
    "public bool Values(int x1, int y1, int x2,\n",
    "                     int y2, int x, int y)\n",
    "{\n",
    "        \n",
    "    if (x > x1 && x < x2 &&\n",
    "        y > y1 && y < y2)\n",
    "    {\n",
    "        return true;\n",
    "    }\n",
    "    return false;\n",
    "        \n",
    "}\n",
    "\n",
    "\n",
    "int x1 = 0, y1 = 0,\n",
    "    x2 = 2, y2 = 3;\n",
    "\n",
    "int x = 1, y = 1;\n",
    "\n",
    "\n",
    "if (Values(x1, y1, x2, y2, x, y))\n",
    "    Console.Write(\"True,The given point lies in rectangle\");\n",
    "else\n",
    "    Console.Write(\"False,The given point does not lies in rectangle\");"
   ]
  },
  {
   "cell_type": "markdown",
   "metadata": {},
   "source": [
    "# Question 5.b"
   ]
  },
  {
   "cell_type": "code",
   "execution_count": 143,
   "metadata": {},
   "outputs": [
    {
     "name": "stdout",
     "output_type": "stream",
     "text": [
      "False,The given point does not lies in rectangle"
     ]
    }
   ],
   "source": [
    "//Question 5b\n",
    "public bool inside(double x1, double y1, double x2,\n",
    "                     double y2, double x, double y)\n",
    "{\n",
    "        \n",
    "        if (x > x1 && x < x2 &&\n",
    "            y > y1 && y < y2)\n",
    "        {\n",
    "            return true;\n",
    "        }\n",
    "        return false;\n",
    "        \n",
    "}\n",
    "\n",
    "\n",
    "double x1 = 0.3, y1 = 0.5,\n",
    "    x2 = 1.1, y2 = 0.7;\n",
    "\n",
    "double x = 1, y = 1;\n",
    "\n",
    "\n",
    "if (inside(x1, y1, x2, y2, x, y))\n",
    "     Console.Write(\"True,The given point lies in rectangle\");\n",
    "else\n",
    "    Console.Write(\"False,The given point does not lies in rectangle\");"
   ]
  },
  {
   "cell_type": "markdown",
   "metadata": {},
   "source": [
    "# Question 5.b"
   ]
  },
  {
   "cell_type": "code",
   "execution_count": 144,
   "metadata": {},
   "outputs": [
    {
     "name": "stdout",
     "output_type": "stream",
     "text": [
      "True,The given point lies in rectangle"
     ]
    }
   ],
   "source": [
    "//Question 5b\n",
    "\n",
    "double x1 = 0.5, y1 = 0.2,\n",
    "    x2 = 1.1, y2 = 2;\n",
    "\n",
    "double x = 1, y = 1;\n",
    "\n",
    "\n",
    "if (inside(x1, y1, x2, y2, x, y))\n",
    "     Console.Write(\"True,The given point lies in rectangle\");\n",
    "else\n",
    "    Console.Write(\"False,The given point does not lies in rectangle\");"
   ]
  },
  {
   "cell_type": "code",
   "execution_count": null,
   "metadata": {},
   "outputs": [],
   "source": []
  }
 ],
 "metadata": {
  "kernelspec": {
   "display_name": ".NET (C#)",
   "language": "C#",
   "name": ".net-csharp"
  },
  "language_info": {
   "file_extension": ".cs",
   "mimetype": "text/x-csharp",
   "name": "C#",
   "pygments_lexer": "csharp",
   "version": "8.0"
  }
 },
 "nbformat": 4,
 "nbformat_minor": 4
}
